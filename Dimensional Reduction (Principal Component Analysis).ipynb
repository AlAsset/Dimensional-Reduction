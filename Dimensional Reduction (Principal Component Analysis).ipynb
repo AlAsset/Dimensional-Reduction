{
 "cells": [
  {
   "cell_type": "markdown",
   "id": "b34078b1",
   "metadata": {},
   "source": [
    "# Olzhas Malik\n",
    "ID:45357"
   ]
  },
  {
   "cell_type": "code",
   "execution_count": 41,
   "id": "82b6d13b",
   "metadata": {},
   "outputs": [
    {
     "name": "stdout",
     "output_type": "stream",
     "text": [
      "Hello World\n"
     ]
    }
   ],
   "source": [
    "print(\"Hello World\")"
   ]
  },
  {
   "cell_type": "markdown",
   "id": "31ff6e01",
   "metadata": {},
   "source": [
    "# Imports and Load Data"
   ]
  },
  {
   "cell_type": "code",
   "execution_count": 42,
   "id": "1a2a11c4",
   "metadata": {},
   "outputs": [],
   "source": [
    "import pandas as pd\n",
    "import numpy as np\n",
    "import matplotlib.pyplot as plt\n",
    "import seaborn as sns"
   ]
  },
  {
   "cell_type": "code",
   "execution_count": 43,
   "id": "ef4d40a9",
   "metadata": {},
   "outputs": [],
   "source": [
    "import warnings\n",
    "warnings.filterwarnings('ignore')"
   ]
  },
  {
   "cell_type": "code",
   "execution_count": 44,
   "id": "e6d496a2",
   "metadata": {},
   "outputs": [
    {
     "data": {
      "text/html": [
       "<div>\n",
       "<style scoped>\n",
       "    .dataframe tbody tr th:only-of-type {\n",
       "        vertical-align: middle;\n",
       "    }\n",
       "\n",
       "    .dataframe tbody tr th {\n",
       "        vertical-align: top;\n",
       "    }\n",
       "\n",
       "    .dataframe thead th {\n",
       "        text-align: right;\n",
       "    }\n",
       "</style>\n",
       "<table border=\"1\" class=\"dataframe\">\n",
       "  <thead>\n",
       "    <tr style=\"text-align: right;\">\n",
       "      <th></th>\n",
       "      <th>Unnamed: 0</th>\n",
       "      <th>address</th>\n",
       "      <th>city</th>\n",
       "      <th>floor</th>\n",
       "      <th>id</th>\n",
       "      <th>latitude</th>\n",
       "      <th>longitude</th>\n",
       "      <th>price</th>\n",
       "      <th>rooms</th>\n",
       "      <th>sq</th>\n",
       "      <th>year</th>\n",
       "    </tr>\n",
       "  </thead>\n",
       "  <tbody>\n",
       "    <tr>\n",
       "      <th>0</th>\n",
       "      <td>0</td>\n",
       "      <td>Podgуrze Zabіocie Stanisіawa Klimeckiego</td>\n",
       "      <td>Krakуw</td>\n",
       "      <td>2.0</td>\n",
       "      <td>23918.0</td>\n",
       "      <td>50.049224</td>\n",
       "      <td>19.970379</td>\n",
       "      <td>749000.0</td>\n",
       "      <td>3.0</td>\n",
       "      <td>74.05</td>\n",
       "      <td>2021.0</td>\n",
       "    </tr>\n",
       "    <tr>\n",
       "      <th>1</th>\n",
       "      <td>1</td>\n",
       "      <td>Praga-Poіudnie Grochowska</td>\n",
       "      <td>Warszawa</td>\n",
       "      <td>3.0</td>\n",
       "      <td>17828.0</td>\n",
       "      <td>52.249775</td>\n",
       "      <td>21.106886</td>\n",
       "      <td>240548.0</td>\n",
       "      <td>1.0</td>\n",
       "      <td>24.38</td>\n",
       "      <td>2021.0</td>\n",
       "    </tr>\n",
       "    <tr>\n",
       "      <th>2</th>\n",
       "      <td>2</td>\n",
       "      <td>Krowodrza Czarnowiejska</td>\n",
       "      <td>Krakуw</td>\n",
       "      <td>2.0</td>\n",
       "      <td>22784.0</td>\n",
       "      <td>50.066964</td>\n",
       "      <td>19.920025</td>\n",
       "      <td>427000.0</td>\n",
       "      <td>2.0</td>\n",
       "      <td>37.00</td>\n",
       "      <td>1970.0</td>\n",
       "    </tr>\n",
       "    <tr>\n",
       "      <th>3</th>\n",
       "      <td>3</td>\n",
       "      <td>Grunwald</td>\n",
       "      <td>Poznaс</td>\n",
       "      <td>2.0</td>\n",
       "      <td>4315.0</td>\n",
       "      <td>52.404212</td>\n",
       "      <td>16.882542</td>\n",
       "      <td>1290000.0</td>\n",
       "      <td>5.0</td>\n",
       "      <td>166.00</td>\n",
       "      <td>1935.0</td>\n",
       "    </tr>\n",
       "    <tr>\n",
       "      <th>4</th>\n",
       "      <td>4</td>\n",
       "      <td>Ochota Gotowy budynek. Stan deweloperski. Osta...</td>\n",
       "      <td>Warszawa</td>\n",
       "      <td>1.0</td>\n",
       "      <td>11770.0</td>\n",
       "      <td>52.212225</td>\n",
       "      <td>20.972630</td>\n",
       "      <td>996000.0</td>\n",
       "      <td>5.0</td>\n",
       "      <td>105.00</td>\n",
       "      <td>2020.0</td>\n",
       "    </tr>\n",
       "  </tbody>\n",
       "</table>\n",
       "</div>"
      ],
      "text/plain": [
       "   Unnamed: 0                                            address      city  \\\n",
       "0           0           Podgуrze Zabіocie Stanisіawa Klimeckiego    Krakуw   \n",
       "1           1                          Praga-Poіudnie Grochowska  Warszawa   \n",
       "2           2                            Krowodrza Czarnowiejska    Krakуw   \n",
       "3           3                                           Grunwald    Poznaс   \n",
       "4           4  Ochota Gotowy budynek. Stan deweloperski. Osta...  Warszawa   \n",
       "\n",
       "   floor       id   latitude  longitude      price  rooms      sq    year  \n",
       "0    2.0  23918.0  50.049224  19.970379   749000.0    3.0   74.05  2021.0  \n",
       "1    3.0  17828.0  52.249775  21.106886   240548.0    1.0   24.38  2021.0  \n",
       "2    2.0  22784.0  50.066964  19.920025   427000.0    2.0   37.00  1970.0  \n",
       "3    2.0   4315.0  52.404212  16.882542  1290000.0    5.0  166.00  1935.0  \n",
       "4    1.0  11770.0  52.212225  20.972630   996000.0    5.0  105.00  2020.0  "
      ]
     },
     "execution_count": 44,
     "metadata": {},
     "output_type": "execute_result"
    }
   ],
   "source": [
    "df = pd.read_csv(\"Houses.csv\",encoding=\"windows-1251\")\n",
    "df.head()"
   ]
  },
  {
   "cell_type": "code",
   "execution_count": 45,
   "id": "81e22066",
   "metadata": {},
   "outputs": [
    {
     "data": {
      "text/html": [
       "<div>\n",
       "<style scoped>\n",
       "    .dataframe tbody tr th:only-of-type {\n",
       "        vertical-align: middle;\n",
       "    }\n",
       "\n",
       "    .dataframe tbody tr th {\n",
       "        vertical-align: top;\n",
       "    }\n",
       "\n",
       "    .dataframe thead th {\n",
       "        text-align: right;\n",
       "    }\n",
       "</style>\n",
       "<table border=\"1\" class=\"dataframe\">\n",
       "  <thead>\n",
       "    <tr style=\"text-align: right;\">\n",
       "      <th></th>\n",
       "      <th>Unnamed: 0</th>\n",
       "      <th>address</th>\n",
       "      <th>city</th>\n",
       "      <th>floor</th>\n",
       "      <th>id</th>\n",
       "      <th>latitude</th>\n",
       "      <th>longitude</th>\n",
       "      <th>price</th>\n",
       "      <th>rooms</th>\n",
       "      <th>sq</th>\n",
       "      <th>year</th>\n",
       "    </tr>\n",
       "  </thead>\n",
       "  <tbody>\n",
       "    <tr>\n",
       "      <th>23759</th>\n",
       "      <td>23759</td>\n",
       "      <td>Stare Miasto Naramowice</td>\n",
       "      <td>Poznaс</td>\n",
       "      <td>0.0</td>\n",
       "      <td>3976.0</td>\n",
       "      <td>52.449649</td>\n",
       "      <td>16.949408</td>\n",
       "      <td>543000.0</td>\n",
       "      <td>4.0</td>\n",
       "      <td>77.00</td>\n",
       "      <td>2020.0</td>\n",
       "    </tr>\n",
       "    <tr>\n",
       "      <th>23760</th>\n",
       "      <td>23760</td>\n",
       "      <td>Wіochy</td>\n",
       "      <td>Warszawa</td>\n",
       "      <td>4.0</td>\n",
       "      <td>10206.0</td>\n",
       "      <td>52.186109</td>\n",
       "      <td>20.948438</td>\n",
       "      <td>910000.0</td>\n",
       "      <td>3.0</td>\n",
       "      <td>71.00</td>\n",
       "      <td>2017.0</td>\n",
       "    </tr>\n",
       "    <tr>\n",
       "      <th>23761</th>\n",
       "      <td>23761</td>\n",
       "      <td>Nowe Miasto Malta ul. Katowicka</td>\n",
       "      <td>Poznaс</td>\n",
       "      <td>0.0</td>\n",
       "      <td>4952.0</td>\n",
       "      <td>52.397345</td>\n",
       "      <td>16.961939</td>\n",
       "      <td>430695.0</td>\n",
       "      <td>3.0</td>\n",
       "      <td>50.67</td>\n",
       "      <td>2022.0</td>\n",
       "    </tr>\n",
       "    <tr>\n",
       "      <th>23762</th>\n",
       "      <td>23762</td>\n",
       "      <td>Podgуrze Duchackie Walerego Sіawka</td>\n",
       "      <td>Krakуw</td>\n",
       "      <td>6.0</td>\n",
       "      <td>24148.0</td>\n",
       "      <td>50.024231</td>\n",
       "      <td>19.959569</td>\n",
       "      <td>359000.0</td>\n",
       "      <td>2.0</td>\n",
       "      <td>38.86</td>\n",
       "      <td>2021.0</td>\n",
       "    </tr>\n",
       "    <tr>\n",
       "      <th>23763</th>\n",
       "      <td>23763</td>\n",
       "      <td>Ursynуw</td>\n",
       "      <td>Warszawa</td>\n",
       "      <td>2.0</td>\n",
       "      <td>10889.0</td>\n",
       "      <td>52.141039</td>\n",
       "      <td>21.032321</td>\n",
       "      <td>604800.0</td>\n",
       "      <td>3.0</td>\n",
       "      <td>63.00</td>\n",
       "      <td>1978.0</td>\n",
       "    </tr>\n",
       "  </tbody>\n",
       "</table>\n",
       "</div>"
      ],
      "text/plain": [
       "       Unnamed: 0                             address      city  floor  \\\n",
       "23759       23759             Stare Miasto Naramowice    Poznaс    0.0   \n",
       "23760       23760                              Wіochy  Warszawa    4.0   \n",
       "23761       23761     Nowe Miasto Malta ul. Katowicka    Poznaс    0.0   \n",
       "23762       23762  Podgуrze Duchackie Walerego Sіawka    Krakуw    6.0   \n",
       "23763       23763                             Ursynуw  Warszawa    2.0   \n",
       "\n",
       "            id   latitude  longitude     price  rooms     sq    year  \n",
       "23759   3976.0  52.449649  16.949408  543000.0    4.0  77.00  2020.0  \n",
       "23760  10206.0  52.186109  20.948438  910000.0    3.0  71.00  2017.0  \n",
       "23761   4952.0  52.397345  16.961939  430695.0    3.0  50.67  2022.0  \n",
       "23762  24148.0  50.024231  19.959569  359000.0    2.0  38.86  2021.0  \n",
       "23763  10889.0  52.141039  21.032321  604800.0    3.0  63.00  1978.0  "
      ]
     },
     "execution_count": 45,
     "metadata": {},
     "output_type": "execute_result"
    }
   ],
   "source": [
    "df.tail() #looking on the tail of the dataset"
   ]
  },
  {
   "cell_type": "code",
   "execution_count": 46,
   "id": "d54b0665",
   "metadata": {},
   "outputs": [
    {
     "data": {
      "text/plain": [
       "(23764, 11)"
      ]
     },
     "execution_count": 46,
     "metadata": {},
     "output_type": "execute_result"
    }
   ],
   "source": [
    "df.shape"
   ]
  },
  {
   "cell_type": "code",
   "execution_count": 47,
   "id": "328e3e11",
   "metadata": {},
   "outputs": [
    {
     "data": {
      "text/html": [
       "<div>\n",
       "<style scoped>\n",
       "    .dataframe tbody tr th:only-of-type {\n",
       "        vertical-align: middle;\n",
       "    }\n",
       "\n",
       "    .dataframe tbody tr th {\n",
       "        vertical-align: top;\n",
       "    }\n",
       "\n",
       "    .dataframe thead th {\n",
       "        text-align: right;\n",
       "    }\n",
       "</style>\n",
       "<table border=\"1\" class=\"dataframe\">\n",
       "  <thead>\n",
       "    <tr style=\"text-align: right;\">\n",
       "      <th></th>\n",
       "      <th>count</th>\n",
       "      <th>mean</th>\n",
       "      <th>std</th>\n",
       "      <th>min</th>\n",
       "      <th>25%</th>\n",
       "      <th>50%</th>\n",
       "      <th>75%</th>\n",
       "      <th>max</th>\n",
       "    </tr>\n",
       "  </thead>\n",
       "  <tbody>\n",
       "    <tr>\n",
       "      <th>Unnamed: 0</th>\n",
       "      <td>23764.0</td>\n",
       "      <td>11881.500000</td>\n",
       "      <td>6860.220235</td>\n",
       "      <td>0.000000</td>\n",
       "      <td>5940.750000</td>\n",
       "      <td>11881.500000</td>\n",
       "      <td>17822.250000</td>\n",
       "      <td>2.376300e+04</td>\n",
       "    </tr>\n",
       "    <tr>\n",
       "      <th>floor</th>\n",
       "      <td>23764.0</td>\n",
       "      <td>2.808744</td>\n",
       "      <td>2.463467</td>\n",
       "      <td>0.000000</td>\n",
       "      <td>1.000000</td>\n",
       "      <td>2.000000</td>\n",
       "      <td>4.000000</td>\n",
       "      <td>1.000000e+01</td>\n",
       "    </tr>\n",
       "    <tr>\n",
       "      <th>id</th>\n",
       "      <td>23764.0</td>\n",
       "      <td>15621.964484</td>\n",
       "      <td>8617.293898</td>\n",
       "      <td>1.000000</td>\n",
       "      <td>8420.750000</td>\n",
       "      <td>15637.500000</td>\n",
       "      <td>23111.250000</td>\n",
       "      <td>3.030800e+04</td>\n",
       "    </tr>\n",
       "    <tr>\n",
       "      <th>latitude</th>\n",
       "      <td>23764.0</td>\n",
       "      <td>51.374874</td>\n",
       "      <td>1.099836</td>\n",
       "      <td>49.933056</td>\n",
       "      <td>50.066489</td>\n",
       "      <td>52.193987</td>\n",
       "      <td>52.267594</td>\n",
       "      <td>5.443524e+01</td>\n",
       "    </tr>\n",
       "    <tr>\n",
       "      <th>longitude</th>\n",
       "      <td>23764.0</td>\n",
       "      <td>19.861773</td>\n",
       "      <td>1.447186</td>\n",
       "      <td>4.204796</td>\n",
       "      <td>19.916563</td>\n",
       "      <td>19.999330</td>\n",
       "      <td>20.996180</td>\n",
       "      <td>3.031940e+01</td>\n",
       "    </tr>\n",
       "    <tr>\n",
       "      <th>price</th>\n",
       "      <td>23764.0</td>\n",
       "      <td>649353.647809</td>\n",
       "      <td>532696.986646</td>\n",
       "      <td>5000.000000</td>\n",
       "      <td>411546.125000</td>\n",
       "      <td>520000.000000</td>\n",
       "      <td>699999.000000</td>\n",
       "      <td>1.500000e+07</td>\n",
       "    </tr>\n",
       "    <tr>\n",
       "      <th>rooms</th>\n",
       "      <td>23764.0</td>\n",
       "      <td>2.620771</td>\n",
       "      <td>0.996530</td>\n",
       "      <td>1.000000</td>\n",
       "      <td>2.000000</td>\n",
       "      <td>3.000000</td>\n",
       "      <td>3.000000</td>\n",
       "      <td>1.000000e+01</td>\n",
       "    </tr>\n",
       "    <tr>\n",
       "      <th>sq</th>\n",
       "      <td>23764.0</td>\n",
       "      <td>102.724910</td>\n",
       "      <td>6533.687932</td>\n",
       "      <td>8.800000</td>\n",
       "      <td>42.000000</td>\n",
       "      <td>53.895000</td>\n",
       "      <td>68.915000</td>\n",
       "      <td>1.007185e+06</td>\n",
       "    </tr>\n",
       "    <tr>\n",
       "      <th>year</th>\n",
       "      <td>23764.0</td>\n",
       "      <td>2000.551170</td>\n",
       "      <td>48.314020</td>\n",
       "      <td>70.000000</td>\n",
       "      <td>1985.000000</td>\n",
       "      <td>2019.000000</td>\n",
       "      <td>2021.000000</td>\n",
       "      <td>2.980000e+03</td>\n",
       "    </tr>\n",
       "  </tbody>\n",
       "</table>\n",
       "</div>"
      ],
      "text/plain": [
       "              count           mean            std          min            25%  \\\n",
       "Unnamed: 0  23764.0   11881.500000    6860.220235     0.000000    5940.750000   \n",
       "floor       23764.0       2.808744       2.463467     0.000000       1.000000   \n",
       "id          23764.0   15621.964484    8617.293898     1.000000    8420.750000   \n",
       "latitude    23764.0      51.374874       1.099836    49.933056      50.066489   \n",
       "longitude   23764.0      19.861773       1.447186     4.204796      19.916563   \n",
       "price       23764.0  649353.647809  532696.986646  5000.000000  411546.125000   \n",
       "rooms       23764.0       2.620771       0.996530     1.000000       2.000000   \n",
       "sq          23764.0     102.724910    6533.687932     8.800000      42.000000   \n",
       "year        23764.0    2000.551170      48.314020    70.000000    1985.000000   \n",
       "\n",
       "                      50%            75%           max  \n",
       "Unnamed: 0   11881.500000   17822.250000  2.376300e+04  \n",
       "floor            2.000000       4.000000  1.000000e+01  \n",
       "id           15637.500000   23111.250000  3.030800e+04  \n",
       "latitude        52.193987      52.267594  5.443524e+01  \n",
       "longitude       19.999330      20.996180  3.031940e+01  \n",
       "price       520000.000000  699999.000000  1.500000e+07  \n",
       "rooms            3.000000       3.000000  1.000000e+01  \n",
       "sq              53.895000      68.915000  1.007185e+06  \n",
       "year          2019.000000    2021.000000  2.980000e+03  "
      ]
     },
     "execution_count": 47,
     "metadata": {},
     "output_type": "execute_result"
    }
   ],
   "source": [
    "df.describe().T"
   ]
  },
  {
   "cell_type": "code",
   "execution_count": 48,
   "id": "656d647c",
   "metadata": {},
   "outputs": [
    {
     "data": {
      "text/plain": [
       "array(['Krakуw', 'Warszawa', 'Poznaс'], dtype=object)"
      ]
     },
     "execution_count": 48,
     "metadata": {},
     "output_type": "execute_result"
    }
   ],
   "source": [
    "df.city.unique()"
   ]
  },
  {
   "cell_type": "code",
   "execution_count": 49,
   "id": "30b89d89",
   "metadata": {},
   "outputs": [
    {
     "data": {
      "text/plain": [
       "Warszawa    9851\n",
       "Krakуw      9764\n",
       "Poznaс      4149\n",
       "Name: city, dtype: int64"
      ]
     },
     "execution_count": 49,
     "metadata": {},
     "output_type": "execute_result"
    }
   ],
   "source": [
    "df['city'].value_counts()"
   ]
  },
  {
   "cell_type": "code",
   "execution_count": 50,
   "id": "e1a353bd",
   "metadata": {},
   "outputs": [
    {
     "data": {
      "text/plain": [
       "<AxesSubplot:xlabel='city', ylabel='count'>"
      ]
     },
     "execution_count": 50,
     "metadata": {},
     "output_type": "execute_result"
    },
    {
     "data": {
      "image/png": "[encoded data removed]",
      "text/plain": [
       "<Figure size 432x288 with 1 Axes>"
      ]
     },
     "metadata": {
      "needs_background": "light"
     },
     "output_type": "display_data"
    }
   ],
   "source": [
    "sns.countplot(df['city'], palette='husl')"
   ]
  },
  {
   "cell_type": "markdown",
   "id": "4ee8b2b2",
   "metadata": {},
   "source": [
    "# Clean and Prepare The Data"
   ]
  },
  {
   "cell_type": "code",
   "execution_count": 51,
   "id": "aa2e1889",
   "metadata": {},
   "outputs": [],
   "source": [
    "df.drop('Unnamed: 0',axis=1,inplace=True)\n",
    "df.drop('address',axis=1,inplace=True)"
   ]
  },
  {
   "cell_type": "code",
   "execution_count": 52,
   "id": "4af5d3f5",
   "metadata": {},
   "outputs": [
    {
     "data": {
      "text/html": [
       "<div>\n",
       "<style scoped>\n",
       "    .dataframe tbody tr th:only-of-type {\n",
       "        vertical-align: middle;\n",
       "    }\n",
       "\n",
       "    .dataframe tbody tr th {\n",
       "        vertical-align: top;\n",
       "    }\n",
       "\n",
       "    .dataframe thead th {\n",
       "        text-align: right;\n",
       "    }\n",
       "</style>\n",
       "<table border=\"1\" class=\"dataframe\">\n",
       "  <thead>\n",
       "    <tr style=\"text-align: right;\">\n",
       "      <th></th>\n",
       "      <th>city</th>\n",
       "      <th>floor</th>\n",
       "      <th>id</th>\n",
       "      <th>latitude</th>\n",
       "      <th>longitude</th>\n",
       "      <th>price</th>\n",
       "      <th>rooms</th>\n",
       "      <th>sq</th>\n",
       "      <th>year</th>\n",
       "    </tr>\n",
       "  </thead>\n",
       "  <tbody>\n",
       "    <tr>\n",
       "      <th>0</th>\n",
       "      <td>Krakуw</td>\n",
       "      <td>2.0</td>\n",
       "      <td>23918.0</td>\n",
       "      <td>50.049224</td>\n",
       "      <td>19.970379</td>\n",
       "      <td>749000.0</td>\n",
       "      <td>3.0</td>\n",
       "      <td>74.05</td>\n",
       "      <td>2021.0</td>\n",
       "    </tr>\n",
       "    <tr>\n",
       "      <th>1</th>\n",
       "      <td>Warszawa</td>\n",
       "      <td>3.0</td>\n",
       "      <td>17828.0</td>\n",
       "      <td>52.249775</td>\n",
       "      <td>21.106886</td>\n",
       "      <td>240548.0</td>\n",
       "      <td>1.0</td>\n",
       "      <td>24.38</td>\n",
       "      <td>2021.0</td>\n",
       "    </tr>\n",
       "    <tr>\n",
       "      <th>2</th>\n",
       "      <td>Krakуw</td>\n",
       "      <td>2.0</td>\n",
       "      <td>22784.0</td>\n",
       "      <td>50.066964</td>\n",
       "      <td>19.920025</td>\n",
       "      <td>427000.0</td>\n",
       "      <td>2.0</td>\n",
       "      <td>37.00</td>\n",
       "      <td>1970.0</td>\n",
       "    </tr>\n",
       "    <tr>\n",
       "      <th>3</th>\n",
       "      <td>Poznaс</td>\n",
       "      <td>2.0</td>\n",
       "      <td>4315.0</td>\n",
       "      <td>52.404212</td>\n",
       "      <td>16.882542</td>\n",
       "      <td>1290000.0</td>\n",
       "      <td>5.0</td>\n",
       "      <td>166.00</td>\n",
       "      <td>1935.0</td>\n",
       "    </tr>\n",
       "    <tr>\n",
       "      <th>4</th>\n",
       "      <td>Warszawa</td>\n",
       "      <td>1.0</td>\n",
       "      <td>11770.0</td>\n",
       "      <td>52.212225</td>\n",
       "      <td>20.972630</td>\n",
       "      <td>996000.0</td>\n",
       "      <td>5.0</td>\n",
       "      <td>105.00</td>\n",
       "      <td>2020.0</td>\n",
       "    </tr>\n",
       "  </tbody>\n",
       "</table>\n",
       "</div>"
      ],
      "text/plain": [
       "       city  floor       id   latitude  longitude      price  rooms      sq  \\\n",
       "0    Krakуw    2.0  23918.0  50.049224  19.970379   749000.0    3.0   74.05   \n",
       "1  Warszawa    3.0  17828.0  52.249775  21.106886   240548.0    1.0   24.38   \n",
       "2    Krakуw    2.0  22784.0  50.066964  19.920025   427000.0    2.0   37.00   \n",
       "3    Poznaс    2.0   4315.0  52.404212  16.882542  1290000.0    5.0  166.00   \n",
       "4  Warszawa    1.0  11770.0  52.212225  20.972630   996000.0    5.0  105.00   \n",
       "\n",
       "     year  \n",
       "0  2021.0  \n",
       "1  2021.0  \n",
       "2  1970.0  \n",
       "3  1935.0  \n",
       "4  2020.0  "
      ]
     },
     "execution_count": 52,
     "metadata": {},
     "output_type": "execute_result"
    }
   ],
   "source": [
    "df.head()"
   ]
  },
  {
   "cell_type": "code",
   "execution_count": 53,
   "id": "2dc80918",
   "metadata": {},
   "outputs": [
    {
     "data": {
      "text/html": [
       "<div>\n",
       "<style scoped>\n",
       "    .dataframe tbody tr th:only-of-type {\n",
       "        vertical-align: middle;\n",
       "    }\n",
       "\n",
       "    .dataframe tbody tr th {\n",
       "        vertical-align: top;\n",
       "    }\n",
       "\n",
       "    .dataframe thead th {\n",
       "        text-align: right;\n",
       "    }\n",
       "</style>\n",
       "<table border=\"1\" class=\"dataframe\">\n",
       "  <thead>\n",
       "    <tr style=\"text-align: right;\">\n",
       "      <th></th>\n",
       "      <th>city</th>\n",
       "      <th>floor</th>\n",
       "      <th>id</th>\n",
       "      <th>latitude</th>\n",
       "      <th>longitude</th>\n",
       "      <th>price</th>\n",
       "      <th>rooms</th>\n",
       "      <th>sq</th>\n",
       "      <th>year</th>\n",
       "    </tr>\n",
       "  </thead>\n",
       "  <tbody>\n",
       "    <tr>\n",
       "      <th>0</th>\n",
       "      <td>1</td>\n",
       "      <td>2.0</td>\n",
       "      <td>23918.0</td>\n",
       "      <td>50.049224</td>\n",
       "      <td>19.970379</td>\n",
       "      <td>749000.0</td>\n",
       "      <td>3.0</td>\n",
       "      <td>74.05</td>\n",
       "      <td>2021.0</td>\n",
       "    </tr>\n",
       "    <tr>\n",
       "      <th>1</th>\n",
       "      <td>0</td>\n",
       "      <td>3.0</td>\n",
       "      <td>17828.0</td>\n",
       "      <td>52.249775</td>\n",
       "      <td>21.106886</td>\n",
       "      <td>240548.0</td>\n",
       "      <td>1.0</td>\n",
       "      <td>24.38</td>\n",
       "      <td>2021.0</td>\n",
       "    </tr>\n",
       "    <tr>\n",
       "      <th>2</th>\n",
       "      <td>1</td>\n",
       "      <td>2.0</td>\n",
       "      <td>22784.0</td>\n",
       "      <td>50.066964</td>\n",
       "      <td>19.920025</td>\n",
       "      <td>427000.0</td>\n",
       "      <td>2.0</td>\n",
       "      <td>37.00</td>\n",
       "      <td>1970.0</td>\n",
       "    </tr>\n",
       "    <tr>\n",
       "      <th>3</th>\n",
       "      <td>2</td>\n",
       "      <td>2.0</td>\n",
       "      <td>4315.0</td>\n",
       "      <td>52.404212</td>\n",
       "      <td>16.882542</td>\n",
       "      <td>1290000.0</td>\n",
       "      <td>5.0</td>\n",
       "      <td>166.00</td>\n",
       "      <td>1935.0</td>\n",
       "    </tr>\n",
       "    <tr>\n",
       "      <th>4</th>\n",
       "      <td>0</td>\n",
       "      <td>1.0</td>\n",
       "      <td>11770.0</td>\n",
       "      <td>52.212225</td>\n",
       "      <td>20.972630</td>\n",
       "      <td>996000.0</td>\n",
       "      <td>5.0</td>\n",
       "      <td>105.00</td>\n",
       "      <td>2020.0</td>\n",
       "    </tr>\n",
       "  </tbody>\n",
       "</table>\n",
       "</div>"
      ],
      "text/plain": [
       "   city  floor       id   latitude  longitude      price  rooms      sq  \\\n",
       "0     1    2.0  23918.0  50.049224  19.970379   749000.0    3.0   74.05   \n",
       "1     0    3.0  17828.0  52.249775  21.106886   240548.0    1.0   24.38   \n",
       "2     1    2.0  22784.0  50.066964  19.920025   427000.0    2.0   37.00   \n",
       "3     2    2.0   4315.0  52.404212  16.882542  1290000.0    5.0  166.00   \n",
       "4     0    1.0  11770.0  52.212225  20.972630   996000.0    5.0  105.00   \n",
       "\n",
       "     year  \n",
       "0  2021.0  \n",
       "1  2021.0  \n",
       "2  1970.0  \n",
       "3  1935.0  \n",
       "4  2020.0  "
      ]
     },
     "execution_count": 53,
     "metadata": {},
     "output_type": "execute_result"
    }
   ],
   "source": [
    "df['city'] = df['city'].map({'Krakуw':1,'Warszawa':0,'Poznaс':2})\n",
    "df.head()"
   ]
  },
  {
   "cell_type": "code",
   "execution_count": 54,
   "id": "e607bc2b",
   "metadata": {},
   "outputs": [
    {
     "data": {
      "text/plain": [
       "city         0\n",
       "floor        0\n",
       "id           0\n",
       "latitude     0\n",
       "longitude    0\n",
       "price        0\n",
       "rooms        0\n",
       "sq           0\n",
       "year         0\n",
       "dtype: int64"
      ]
     },
     "execution_count": 54,
     "metadata": {},
     "output_type": "execute_result"
    }
   ],
   "source": [
    "df.isnull().sum()"
   ]
  },
  {
   "cell_type": "code",
   "execution_count": 55,
   "id": "35cd7d56",
   "metadata": {},
   "outputs": [
    {
     "data": {
      "text/html": [
       "<div>\n",
       "<style scoped>\n",
       "    .dataframe tbody tr th:only-of-type {\n",
       "        vertical-align: middle;\n",
       "    }\n",
       "\n",
       "    .dataframe tbody tr th {\n",
       "        vertical-align: top;\n",
       "    }\n",
       "\n",
       "    .dataframe thead th {\n",
       "        text-align: right;\n",
       "    }\n",
       "</style>\n",
       "<table border=\"1\" class=\"dataframe\">\n",
       "  <thead>\n",
       "    <tr style=\"text-align: right;\">\n",
       "      <th></th>\n",
       "      <th>city</th>\n",
       "      <th>floor</th>\n",
       "      <th>id</th>\n",
       "      <th>latitude</th>\n",
       "      <th>longitude</th>\n",
       "      <th>price</th>\n",
       "      <th>rooms</th>\n",
       "      <th>sq</th>\n",
       "      <th>year</th>\n",
       "    </tr>\n",
       "  </thead>\n",
       "  <tbody>\n",
       "    <tr>\n",
       "      <th>city</th>\n",
       "      <td>1.000000</td>\n",
       "      <td>-0.155868</td>\n",
       "      <td>-0.123213</td>\n",
       "      <td>-0.217943</td>\n",
       "      <td>-0.935586</td>\n",
       "      <td>-0.221401</td>\n",
       "      <td>0.004960</td>\n",
       "      <td>0.001963</td>\n",
       "      <td>0.068415</td>\n",
       "    </tr>\n",
       "    <tr>\n",
       "      <th>floor</th>\n",
       "      <td>-0.155868</td>\n",
       "      <td>1.000000</td>\n",
       "      <td>-0.023852</td>\n",
       "      <td>0.082347</td>\n",
       "      <td>0.130120</td>\n",
       "      <td>0.123427</td>\n",
       "      <td>-0.000096</td>\n",
       "      <td>-0.002142</td>\n",
       "      <td>-0.012815</td>\n",
       "    </tr>\n",
       "    <tr>\n",
       "      <th>id</th>\n",
       "      <td>-0.123213</td>\n",
       "      <td>-0.023852</td>\n",
       "      <td>1.000000</td>\n",
       "      <td>-0.860350</td>\n",
       "      <td>0.412519</td>\n",
       "      <td>0.013005</td>\n",
       "      <td>-0.009318</td>\n",
       "      <td>0.004767</td>\n",
       "      <td>0.032489</td>\n",
       "    </tr>\n",
       "    <tr>\n",
       "      <th>latitude</th>\n",
       "      <td>-0.217943</td>\n",
       "      <td>0.082347</td>\n",
       "      <td>-0.860350</td>\n",
       "      <td>1.000000</td>\n",
       "      <td>-0.117007</td>\n",
       "      <td>0.070825</td>\n",
       "      <td>0.017425</td>\n",
       "      <td>-0.007114</td>\n",
       "      <td>-0.051990</td>\n",
       "    </tr>\n",
       "    <tr>\n",
       "      <th>longitude</th>\n",
       "      <td>-0.935586</td>\n",
       "      <td>0.130120</td>\n",
       "      <td>0.412519</td>\n",
       "      <td>-0.117007</td>\n",
       "      <td>1.000000</td>\n",
       "      <td>0.196294</td>\n",
       "      <td>-0.009377</td>\n",
       "      <td>0.000230</td>\n",
       "      <td>-0.049675</td>\n",
       "    </tr>\n",
       "    <tr>\n",
       "      <th>price</th>\n",
       "      <td>-0.221401</td>\n",
       "      <td>0.123427</td>\n",
       "      <td>0.013005</td>\n",
       "      <td>0.070825</td>\n",
       "      <td>0.196294</td>\n",
       "      <td>1.000000</td>\n",
       "      <td>0.454321</td>\n",
       "      <td>0.007509</td>\n",
       "      <td>-0.009934</td>\n",
       "    </tr>\n",
       "    <tr>\n",
       "      <th>rooms</th>\n",
       "      <td>0.004960</td>\n",
       "      <td>-0.000096</td>\n",
       "      <td>-0.009318</td>\n",
       "      <td>0.017425</td>\n",
       "      <td>-0.009377</td>\n",
       "      <td>0.454321</td>\n",
       "      <td>1.000000</td>\n",
       "      <td>0.018898</td>\n",
       "      <td>0.038226</td>\n",
       "    </tr>\n",
       "    <tr>\n",
       "      <th>sq</th>\n",
       "      <td>0.001963</td>\n",
       "      <td>-0.002142</td>\n",
       "      <td>0.004767</td>\n",
       "      <td>-0.007114</td>\n",
       "      <td>0.000230</td>\n",
       "      <td>0.007509</td>\n",
       "      <td>0.018898</td>\n",
       "      <td>1.000000</td>\n",
       "      <td>0.002709</td>\n",
       "    </tr>\n",
       "    <tr>\n",
       "      <th>year</th>\n",
       "      <td>0.068415</td>\n",
       "      <td>-0.012815</td>\n",
       "      <td>0.032489</td>\n",
       "      <td>-0.051990</td>\n",
       "      <td>-0.049675</td>\n",
       "      <td>-0.009934</td>\n",
       "      <td>0.038226</td>\n",
       "      <td>0.002709</td>\n",
       "      <td>1.000000</td>\n",
       "    </tr>\n",
       "  </tbody>\n",
       "</table>\n",
       "</div>"
      ],
      "text/plain": [
       "               city     floor        id  latitude  longitude     price  \\\n",
       "city       1.000000 -0.155868 -0.123213 -0.217943  -0.935586 -0.221401   \n",
       "floor     -0.155868  1.000000 -0.023852  0.082347   0.130120  0.123427   \n",
       "id        -0.123213 -0.023852  1.000000 -0.860350   0.412519  0.013005   \n",
       "latitude  -0.217943  0.082347 -0.860350  1.000000  -0.117007  0.070825   \n",
       "longitude -0.935586  0.130120  0.412519 -0.117007   1.000000  0.196294   \n",
       "price     -0.221401  0.123427  0.013005  0.070825   0.196294  1.000000   \n",
       "rooms      0.004960 -0.000096 -0.009318  0.017425  -0.009377  0.454321   \n",
       "sq         0.001963 -0.002142  0.004767 -0.007114   0.000230  0.007509   \n",
       "year       0.068415 -0.012815  0.032489 -0.051990  -0.049675 -0.009934   \n",
       "\n",
       "              rooms        sq      year  \n",
       "city       0.004960  0.001963  0.068415  \n",
       "floor     -0.000096 -0.002142 -0.012815  \n",
       "id        -0.009318  0.004767  0.032489  \n",
       "latitude   0.017425 -0.007114 -0.051990  \n",
       "longitude -0.009377  0.000230 -0.049675  \n",
       "price      0.454321  0.007509 -0.009934  \n",
       "rooms      1.000000  0.018898  0.038226  \n",
       "sq         0.018898  1.000000  0.002709  \n",
       "year       0.038226  0.002709  1.000000  "
      ]
     },
     "execution_count": 55,
     "metadata": {},
     "output_type": "execute_result"
    }
   ],
   "source": [
    "df.corr()"
   ]
  },
  {
   "cell_type": "code",
   "execution_count": 56,
   "id": "c97a3de8",
   "metadata": {},
   "outputs": [
    {
     "data": {
      "image/png": "[encoded data removed]",
      "text/plain": [
       "<Figure size 432x288 with 1 Axes>"
      ]
     },
     "metadata": {
      "needs_background": "light"
     },
     "output_type": "display_data"
    }
   ],
   "source": [
    "plt.hist(df['city'], color='g')\n",
    "plt.title('Plot_City (Krakуw:1,Warszawa:0,Poznaс:2)')\n",
    "plt.show()"
   ]
  },
  {
   "cell_type": "code",
   "execution_count": 57,
   "id": "bc709773",
   "metadata": {},
   "outputs": [
    {
     "data": {
      "text/plain": [
       "<AxesSubplot:>"
      ]
     },
     "execution_count": 57,
     "metadata": {},
     "output_type": "execute_result"
    },
    {
     "data": {
      "image/png": "[encoded data removed]",
      "text/plain": [
       "<Figure size 720x720 with 2 Axes>"
      ]
     },
     "metadata": {
      "needs_background": "light"
     },
     "output_type": "display_data"
    }
   ],
   "source": [
    "plt.figure(figsize=(10,10))\n",
    "sns.heatmap(df.corr(), annot=True)"
   ]
  },
  {
   "cell_type": "code",
   "execution_count": 58,
   "id": "67a5c8e4",
   "metadata": {},
   "outputs": [],
   "source": [
    "X=df.drop(['city'], axis=1)\n",
    "y=df['city']"
   ]
  },
  {
   "cell_type": "code",
   "execution_count": 59,
   "id": "8dc2c1b0",
   "metadata": {},
   "outputs": [],
   "source": [
    "from sklearn.preprocessing import StandardScaler"
   ]
  },
  {
   "cell_type": "code",
   "execution_count": 60,
   "id": "ec4d731e",
   "metadata": {},
   "outputs": [],
   "source": [
    "scaler = StandardScaler()\n",
    "scaler.fit(X)\n",
    "X_std = scaler.transform(X)"
   ]
  },
  {
   "cell_type": "markdown",
   "id": "b4edff6a",
   "metadata": {},
   "source": [
    "# Training the Model using all the Features"
   ]
  },
  {
   "cell_type": "code",
   "execution_count": 61,
   "id": "4feff4f2",
   "metadata": {},
   "outputs": [],
   "source": [
    "# Before we perform PCA on the dataset\n",
    "# let’s use logistic regression to train a model using all the 9 features in the dataset "
   ]
  },
  {
   "cell_type": "code",
   "execution_count": 62,
   "id": "7dead235",
   "metadata": {},
   "outputs": [
    {
     "data": {
      "text/html": [
       "<div>\n",
       "<style scoped>\n",
       "    .dataframe tbody tr th:only-of-type {\n",
       "        vertical-align: middle;\n",
       "    }\n",
       "\n",
       "    .dataframe tbody tr th {\n",
       "        vertical-align: top;\n",
       "    }\n",
       "\n",
       "    .dataframe thead th {\n",
       "        text-align: right;\n",
       "    }\n",
       "</style>\n",
       "<table border=\"1\" class=\"dataframe\">\n",
       "  <thead>\n",
       "    <tr style=\"text-align: right;\">\n",
       "      <th></th>\n",
       "      <th>floor</th>\n",
       "      <th>id</th>\n",
       "      <th>latitude</th>\n",
       "      <th>longitude</th>\n",
       "      <th>price</th>\n",
       "      <th>rooms</th>\n",
       "      <th>sq</th>\n",
       "      <th>year</th>\n",
       "    </tr>\n",
       "  </thead>\n",
       "  <tbody>\n",
       "    <tr>\n",
       "      <th>6762</th>\n",
       "      <td>2.0</td>\n",
       "      <td>26212.0</td>\n",
       "      <td>49.985531</td>\n",
       "      <td>19.874617</td>\n",
       "      <td>495000.00</td>\n",
       "      <td>4.0</td>\n",
       "      <td>91.05</td>\n",
       "      <td>2020.0</td>\n",
       "    </tr>\n",
       "    <tr>\n",
       "      <th>6232</th>\n",
       "      <td>0.0</td>\n",
       "      <td>19404.0</td>\n",
       "      <td>50.104781</td>\n",
       "      <td>20.036274</td>\n",
       "      <td>494730.00</td>\n",
       "      <td>4.0</td>\n",
       "      <td>71.70</td>\n",
       "      <td>2020.0</td>\n",
       "    </tr>\n",
       "    <tr>\n",
       "      <th>4515</th>\n",
       "      <td>1.0</td>\n",
       "      <td>26489.0</td>\n",
       "      <td>50.046943</td>\n",
       "      <td>19.997153</td>\n",
       "      <td>880788.06</td>\n",
       "      <td>4.0</td>\n",
       "      <td>97.67</td>\n",
       "      <td>2021.0</td>\n",
       "    </tr>\n",
       "    <tr>\n",
       "      <th>18644</th>\n",
       "      <td>1.0</td>\n",
       "      <td>9821.0</td>\n",
       "      <td>52.224532</td>\n",
       "      <td>20.947972</td>\n",
       "      <td>740000.00</td>\n",
       "      <td>3.0</td>\n",
       "      <td>60.30</td>\n",
       "      <td>2010.0</td>\n",
       "    </tr>\n",
       "    <tr>\n",
       "      <th>10837</th>\n",
       "      <td>4.0</td>\n",
       "      <td>3263.0</td>\n",
       "      <td>52.456781</td>\n",
       "      <td>16.887939</td>\n",
       "      <td>299000.00</td>\n",
       "      <td>2.0</td>\n",
       "      <td>32.00</td>\n",
       "      <td>2020.0</td>\n",
       "    </tr>\n",
       "  </tbody>\n",
       "</table>\n",
       "</div>"
      ],
      "text/plain": [
       "       floor       id   latitude  longitude      price  rooms     sq    year\n",
       "6762     2.0  26212.0  49.985531  19.874617  495000.00    4.0  91.05  2020.0\n",
       "6232     0.0  19404.0  50.104781  20.036274  494730.00    4.0  71.70  2020.0\n",
       "4515     1.0  26489.0  50.046943  19.997153  880788.06    4.0  97.67  2021.0\n",
       "18644    1.0   9821.0  52.224532  20.947972  740000.00    3.0  60.30  2010.0\n",
       "10837    4.0   3263.0  52.456781  16.887939  299000.00    2.0  32.00  2020.0"
      ]
     },
     "execution_count": 62,
     "metadata": {},
     "output_type": "execute_result"
    }
   ],
   "source": [
    "from sklearn.model_selection import train_test_split\n",
    "\n",
    "Xtrain, Xtest, ytrain, ytest = train_test_split(X, y, random_state = 0, train_size = 0.8, stratify = y)\n",
    "Xtrain.head()\n"
   ]
  },
  {
   "cell_type": "code",
   "execution_count": 63,
   "id": "9fc4aed5",
   "metadata": {},
   "outputs": [],
   "source": [
    "from sklearn.naive_bayes import GaussianNB\n",
    "\n",
    "model = GaussianNB()\n",
    "model.fit(Xtrain, ytrain)\n",
    "\n",
    "y_model = model.predict(Xtest)"
   ]
  },
  {
   "cell_type": "code",
   "execution_count": 64,
   "id": "6b487e69",
   "metadata": {},
   "outputs": [
    {
     "data": {
      "text/plain": [
       "0.9375131495897328"
      ]
     },
     "execution_count": 64,
     "metadata": {},
     "output_type": "execute_result"
    }
   ],
   "source": [
    "from sklearn.metrics import accuracy_score\n",
    "\n",
    "accuracy_score(ytest, y_model)\n"
   ]
  },
  {
   "cell_type": "code",
   "execution_count": 65,
   "id": "5888b6df",
   "metadata": {},
   "outputs": [
    {
     "data": {
      "text/plain": [
       "0.8564608892175152"
      ]
     },
     "execution_count": 65,
     "metadata": {},
     "output_type": "execute_result"
    }
   ],
   "source": [
    "from sklearn.model_selection import cross_val_score\n",
    "\n",
    "scores = cross_val_score(model, X, y, cv = 10)\n",
    "scores.mean()"
   ]
  },
  {
   "cell_type": "markdown",
   "id": "0b84d7ef",
   "metadata": {},
   "source": [
    "\n",
    "# Covariance Matrix"
   ]
  },
  {
   "cell_type": "code",
   "execution_count": 66,
   "id": "d47a4fad",
   "metadata": {},
   "outputs": [
    {
     "name": "stdout",
     "output_type": "stream",
     "text": [
      "NumPy covariance matrix: \n",
      "[[ 1.00004208e+00 -2.38529289e-02  8.23500943e-02  1.30125782e-01\n",
      "   1.23431753e-01 -9.59340372e-05 -2.14175992e-03 -1.28157630e-02]\n",
      " [-2.38529289e-02  1.00004208e+00 -8.60386176e-01  4.12536246e-01\n",
      "   1.30051745e-02 -9.31858268e-03  4.76769579e-03  3.24901602e-02]\n",
      " [ 8.23500943e-02 -8.60386176e-01  1.00004208e+00 -1.17011528e-01\n",
      "   7.08282298e-02  1.74254225e-02 -7.11475644e-03 -5.19921161e-02]\n",
      " [ 1.30125782e-01  4.12536246e-01 -1.17011528e-01  1.00004208e+00\n",
      "   1.96301818e-01 -9.37777461e-03  2.29512695e-04 -4.96766801e-02]\n",
      " [ 1.23431753e-01  1.30051745e-02  7.08282298e-02  1.96301818e-01\n",
      "   1.00004208e+00  4.54339894e-01  7.50960635e-03 -9.93397690e-03]\n",
      " [-9.59340372e-05 -9.31858268e-03  1.74254225e-02 -9.37777461e-03\n",
      "   4.54339894e-01  1.00004208e+00  1.88984451e-02  3.82273259e-02]\n",
      " [-2.14175992e-03  4.76769579e-03 -7.11475644e-03  2.29512695e-04\n",
      "   7.50960635e-03  1.88984451e-02  1.00004208e+00  2.70887978e-03]\n",
      " [-1.28157630e-02  3.24901602e-02 -5.19921161e-02 -4.96766801e-02\n",
      "  -9.93397690e-03  3.82273259e-02  2.70887978e-03  1.00004208e+00]]\n"
     ]
    }
   ],
   "source": [
    "print('NumPy covariance matrix: \\n%s' %np.cov(X_std.T))"
   ]
  },
  {
   "cell_type": "markdown",
   "id": "61761d19",
   "metadata": {},
   "source": [
    "# Eigen Values and Eigen Vectors"
   ]
  },
  {
   "cell_type": "code",
   "execution_count": 67,
   "id": "7cf8c0de",
   "metadata": {},
   "outputs": [
    {
     "name": "stdout",
     "output_type": "stream",
     "text": [
      "EigenVectors \n",
      "[[-1.87757572e-02  4.64071743e-03  2.51383055e-01 -7.60368333e-02\n",
      "  -5.72915741e-01  5.91546976e-01  5.02483760e-01  8.32614794e-04]\n",
      " [ 6.87395210e-01 -7.21060069e-01 -2.56733697e-02  7.90938891e-03\n",
      "  -7.78827894e-02 -2.08408787e-02 -1.78864374e-02  4.30412176e-03]\n",
      " [-6.30684663e-01 -6.49636621e-01  1.37991588e-01 -1.15889858e-01\n",
      "   3.28696658e-01  1.94654243e-01  4.14909561e-02 -9.14938483e-03]\n",
      " [ 3.56490373e-01  2.40750941e-01  2.62159733e-01 -2.93908654e-01\n",
      "   6.64999085e-01  4.63580480e-01  4.79646167e-02 -2.03058316e-02]\n",
      " [ 2.86645537e-02  6.10200188e-03  6.96233285e-01  7.05602309e-01\n",
      "   7.54687478e-02 -7.13380872e-02 -7.05407289e-02  2.76596004e-02]\n",
      " [-6.11079698e-03  4.43588288e-03  6.02152957e-01 -6.29307363e-01\n",
      "  -2.10649814e-01 -4.18740160e-01 -1.44007872e-01  2.95314500e-02]\n",
      " [ 8.03464453e-03 -1.49400352e-03  2.85133887e-02  1.09159475e-02\n",
      "   1.91172999e-02 -9.83668752e-02  1.26934418e-01 -9.86330158e-01]\n",
      " [ 3.69216974e-02  1.71508724e-03 -1.53638893e-02  1.79318363e-02\n",
      "   2.54955292e-01 -4.54678139e-01  8.37461303e-01  1.58115154e-01]]\n",
      "\n",
      "EigenValues \n",
      "[2.00646901 0.08717391 1.52555525 0.48813733 0.78799255 1.12534607\n",
      " 0.9809114  0.99875114]\n"
     ]
    }
   ],
   "source": [
    "cov_mat = np.cov(X_std.T)\n",
    "eig_vals,eig_vecs = np.linalg.eig(cov_mat)\n",
    "print('EigenVectors \\n%s' %eig_vecs)\n",
    "print('\\nEigenValues \\n%s' %eig_vals)"
   ]
  },
  {
   "cell_type": "markdown",
   "id": "942392bc",
   "metadata": {},
   "source": [
    "# PCA"
   ]
  },
  {
   "cell_type": "code",
   "execution_count": 68,
   "id": "cbbf240b",
   "metadata": {},
   "outputs": [],
   "source": [
    "# Transforming all the 9 Columns to the 5 Principal Components\n",
    "# You can now transform the standardized data of the 9 columns in the dataset to the 5 principal components:\n",
    "\n",
    "from sklearn.decomposition import PCA\n",
    "\n",
    "pca = PCA().fit(X_std)"
   ]
  },
  {
   "cell_type": "code",
   "execution_count": 69,
   "id": "b7d56ed9",
   "metadata": {},
   "outputs": [
    {
     "name": "stdout",
     "output_type": "stream",
     "text": [
      "[0.25079807 0.19068638 0.14066234 0.12483864 0.12260877]\n"
     ]
    }
   ],
   "source": [
    "pca = PCA(n_components=5)\n",
    "x_pca = pca.fit_transform(X_std)\n",
    "print(pca.explained_variance_ratio_)"
   ]
  },
  {
   "cell_type": "code",
   "execution_count": 70,
   "id": "23610fbf",
   "metadata": {},
   "outputs": [
    {
     "data": {
      "text/plain": [
       "0.8200000000000001"
      ]
     },
     "execution_count": 70,
     "metadata": {},
     "output_type": "execute_result"
    }
   ],
   "source": [
    "0.25+0.19+0.14+0.12+0.12"
   ]
  },
  {
   "cell_type": "code",
   "execution_count": 71,
   "id": "3c80baae",
   "metadata": {},
   "outputs": [
    {
     "data": {
      "text/plain": [
       "(23764, 5)"
      ]
     },
     "execution_count": 71,
     "metadata": {},
     "output_type": "execute_result"
    }
   ],
   "source": [
    "x_pca.shape"
   ]
  },
  {
   "cell_type": "code",
   "execution_count": 72,
   "id": "9c363868",
   "metadata": {},
   "outputs": [
    {
     "data": {
      "text/plain": [
       "array([[ 1.87757572e-02, -6.87395210e-01,  6.30684663e-01,\n",
       "        -3.56490373e-01, -2.86645537e-02,  6.11079698e-03,\n",
       "        -8.03464453e-03, -3.69216974e-02],\n",
       "       [ 2.51383055e-01, -2.56733697e-02,  1.37991588e-01,\n",
       "         2.62159733e-01,  6.96233285e-01,  6.02152957e-01,\n",
       "         2.85133887e-02, -1.53638893e-02],\n",
       "       [ 5.91546976e-01, -2.08408787e-02,  1.94654243e-01,\n",
       "         4.63580480e-01, -7.13380872e-02, -4.18740160e-01,\n",
       "        -9.83668752e-02, -4.54678139e-01],\n",
       "       [-8.32614794e-04, -4.30412176e-03,  9.14938483e-03,\n",
       "         2.03058316e-02, -2.76596004e-02, -2.95314500e-02,\n",
       "         9.86330158e-01, -1.58115154e-01],\n",
       "       [-5.02483760e-01,  1.78864374e-02, -4.14909561e-02,\n",
       "        -4.79646167e-02,  7.05407289e-02,  1.44007872e-01,\n",
       "        -1.26934418e-01, -8.37461303e-01]])"
      ]
     },
     "execution_count": 72,
     "metadata": {},
     "output_type": "execute_result"
    }
   ],
   "source": [
    "pca.components_"
   ]
  },
  {
   "cell_type": "code",
   "execution_count": 73,
   "id": "ad2ec84a",
   "metadata": {},
   "outputs": [
    {
     "data": {
      "image/png": "[encoded data removed]",
      "text/plain": [
       "<Figure size 576x432 with 2 Axes>"
      ]
     },
     "metadata": {
      "needs_background": "light"
     },
     "output_type": "display_data"
    }
   ],
   "source": [
    "plt.figure(figsize=(8,6))\n",
    "\n",
    "plt.scatter(x_pca[:,0],x_pca[:,1], c=df['city'],\n",
    "           alpha=0.8,\n",
    "           cmap=plt.cm.get_cmap('Spectral',10))\n",
    "\n",
    "plt.xlabel('First principal component')\n",
    "plt.ylabel('Second Principal Component')\n",
    "\n",
    "plt.colorbar();"
   ]
  },
  {
   "cell_type": "code",
   "execution_count": 74,
   "id": "2fc84fe1",
   "metadata": {},
   "outputs": [],
   "source": [
    "pca = PCA(n_components=2)\n",
    "x_pca=pca.fit_transform(X_std)\n",
    "\n",
    "pca_m=pd.DataFrame(data = x_pca, columns = ['p1','p2'])"
   ]
  },
  {
   "cell_type": "code",
   "execution_count": 75,
   "id": "651a53af",
   "metadata": {},
   "outputs": [
    {
     "data": {
      "text/plain": [
       "(23764, 2)"
      ]
     },
     "execution_count": 75,
     "metadata": {},
     "output_type": "execute_result"
    }
   ],
   "source": [
    "pca_m.shape"
   ]
  },
  {
   "cell_type": "code",
   "execution_count": 76,
   "id": "cc29c1f9",
   "metadata": {},
   "outputs": [
    {
     "data": {
      "text/html": [
       "<div>\n",
       "<style scoped>\n",
       "    .dataframe tbody tr th:only-of-type {\n",
       "        vertical-align: middle;\n",
       "    }\n",
       "\n",
       "    .dataframe tbody tr th {\n",
       "        vertical-align: top;\n",
       "    }\n",
       "\n",
       "    .dataframe thead th {\n",
       "        text-align: right;\n",
       "    }\n",
       "</style>\n",
       "<table border=\"1\" class=\"dataframe\">\n",
       "  <thead>\n",
       "    <tr style=\"text-align: right;\">\n",
       "      <th></th>\n",
       "      <th>p1</th>\n",
       "      <th>p2</th>\n",
       "    </tr>\n",
       "  </thead>\n",
       "  <tbody>\n",
       "    <tr>\n",
       "      <th>0</th>\n",
       "      <td>-1.473519</td>\n",
       "      <td>0.098867</td>\n",
       "    </tr>\n",
       "    <tr>\n",
       "      <th>1</th>\n",
       "      <td>0.016999</td>\n",
       "      <td>-1.172259</td>\n",
       "    </tr>\n",
       "    <tr>\n",
       "      <th>2</th>\n",
       "      <td>-1.310266</td>\n",
       "      <td>-0.913718</td>\n",
       "    </tr>\n",
       "    <tr>\n",
       "      <th>3</th>\n",
       "      <td>2.250107</td>\n",
       "      <td>1.836744</td>\n",
       "    </tr>\n",
       "    <tr>\n",
       "      <th>4</th>\n",
       "      <td>0.481089</td>\n",
       "      <td>2.017777</td>\n",
       "    </tr>\n",
       "  </tbody>\n",
       "</table>\n",
       "</div>"
      ],
      "text/plain": [
       "         p1        p2\n",
       "0 -1.473519  0.098867\n",
       "1  0.016999 -1.172259\n",
       "2 -1.310266 -0.913718\n",
       "3  2.250107  1.836744\n",
       "4  0.481089  2.017777"
      ]
     },
     "execution_count": 76,
     "metadata": {},
     "output_type": "execute_result"
    }
   ],
   "source": [
    "pca_m.head()"
   ]
  },
  {
   "cell_type": "code",
   "execution_count": 77,
   "id": "d5005523",
   "metadata": {},
   "outputs": [
    {
     "data": {
      "text/html": [
       "<div>\n",
       "<style scoped>\n",
       "    .dataframe tbody tr th:only-of-type {\n",
       "        vertical-align: middle;\n",
       "    }\n",
       "\n",
       "    .dataframe tbody tr th {\n",
       "        vertical-align: top;\n",
       "    }\n",
       "\n",
       "    .dataframe thead th {\n",
       "        text-align: right;\n",
       "    }\n",
       "</style>\n",
       "<table border=\"1\" class=\"dataframe\">\n",
       "  <thead>\n",
       "    <tr style=\"text-align: right;\">\n",
       "      <th></th>\n",
       "      <th>p1</th>\n",
       "      <th>p2</th>\n",
       "    </tr>\n",
       "  </thead>\n",
       "  <tbody>\n",
       "    <tr>\n",
       "      <th>23759</th>\n",
       "      <td>2.240706</td>\n",
       "      <td>0.043447</td>\n",
       "    </tr>\n",
       "    <tr>\n",
       "      <th>23760</th>\n",
       "      <td>0.614398</td>\n",
       "      <td>1.000794</td>\n",
       "    </tr>\n",
       "    <tr>\n",
       "      <th>23761</th>\n",
       "      <td>2.128184</td>\n",
       "      <td>-0.715552</td>\n",
       "    </tr>\n",
       "    <tr>\n",
       "      <th>23762</th>\n",
       "      <td>-1.458151</td>\n",
       "      <td>-0.612881</td>\n",
       "    </tr>\n",
       "    <tr>\n",
       "      <th>23763</th>\n",
       "      <td>0.544399</td>\n",
       "      <td>0.417671</td>\n",
       "    </tr>\n",
       "  </tbody>\n",
       "</table>\n",
       "</div>"
      ],
      "text/plain": [
       "             p1        p2\n",
       "23759  2.240706  0.043447\n",
       "23760  0.614398  1.000794\n",
       "23761  2.128184 -0.715552\n",
       "23762 -1.458151 -0.612881\n",
       "23763  0.544399  0.417671"
      ]
     },
     "execution_count": 77,
     "metadata": {},
     "output_type": "execute_result"
    }
   ],
   "source": [
    "pca_m.tail()"
   ]
  },
  {
   "cell_type": "markdown",
   "id": "9a67852c",
   "metadata": {},
   "source": [
    "# Creating a Machine Learning Pipeline"
   ]
  },
  {
   "cell_type": "code",
   "execution_count": 78,
   "id": "e098481e",
   "metadata": {},
   "outputs": [],
   "source": [
    "# Let’s now create a machine learning pipeline so that we can formalize the entire process:\n",
    "from sklearn.pipeline import Pipeline\n",
    "\n",
    "_sc = StandardScaler()\n",
    "_pca = PCA(n_components = 2)\n",
    "_model = GaussianNB()\n",
    "\n",
    "Gau_regress_model = Pipeline([\n",
    "    ('std_scaler', _sc),\n",
    "    ('pca', _pca),\n",
    "    ('regressor', _model)\n",
    "])"
   ]
  },
  {
   "cell_type": "code",
   "execution_count": 79,
   "id": "7dc5943d",
   "metadata": {},
   "outputs": [
    {
     "data": {
      "text/plain": [
       "Pipeline(steps=[('std_scaler', StandardScaler()), ('pca', PCA(n_components=2)),\n",
       "                ('regressor', GaussianNB())])"
      ]
     },
     "execution_count": 79,
     "metadata": {},
     "output_type": "execute_result"
    }
   ],
   "source": [
    "# We then split the dataset into training and testing sets and train the model using the training set:\n",
    "from sklearn.model_selection import train_test_split\n",
    "\n",
    "Xtrain, Xtest, ytrain, ytest = train_test_split(X, y, random_state = 0, train_size = 0.8, stratify = y)\n",
    "Xtrain.head()\n",
    "\n",
    "Gau_regress_model.fit(Xtrain,ytrain)"
   ]
  },
  {
   "cell_type": "code",
   "execution_count": 80,
   "id": "9bca869a",
   "metadata": {},
   "outputs": [
    {
     "data": {
      "text/plain": [
       "0.9955817378497791"
      ]
     },
     "execution_count": 80,
     "metadata": {},
     "output_type": "execute_result"
    }
   ],
   "source": [
    "Gau_regress_model.score(Xtest,ytest)"
   ]
  },
  {
   "cell_type": "markdown",
   "id": "cf0786ec",
   "metadata": {},
   "source": [
    "# Summary\n",
    "\n",
    "In this project, we have discussed the idea behind PCA and the pros and cons of using it. In particular, we trained three models:\n",
    "\n",
    "1) Using all the 9 features in the breast Houses in Poland dataset\n",
    "\n",
    "2) Using only 5 feature in the dataset\n",
    "\n",
    "3) Applying PCA to the dataset and then use the 2 components for training\n",
    "\n"
   ]
  }
 ],
 "metadata": {
  "kernelspec": {
   "display_name": "Python 3 (ipykernel)",
   "language": "python",
   "name": "python3"
  },
  "language_info": {
   "codemirror_mode": {
    "name": "ipython",
    "version": 3
   },
   "file_extension": ".py",
   "mimetype": "text/x-python",
   "name": "python",
   "nbconvert_exporter": "python",
   "pygments_lexer": "ipython3",
   "version": "3.9.12"
  }
 },
 "nbformat": 4,
 "nbformat_minor": 5
}
